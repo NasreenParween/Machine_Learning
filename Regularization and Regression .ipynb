{
 "cells": [
  {
   "cell_type": "markdown",
   "id": "b2af4527",
   "metadata": {},
   "source": [
    "# Lasso on some values"
   ]
  },
  {
   "cell_type": "code",
   "execution_count": 1,
   "id": "94f70f55",
   "metadata": {},
   "outputs": [
    {
     "name": "stdout",
     "output_type": "stream",
     "text": [
      "Coefficients: [3.16666667e-01 2.46716228e-17 0.00000000e+00]\n",
      "Intercept: 9.733333333333333\n"
     ]
    }
   ],
   "source": [
    "import numpy as np\n",
    "from sklearn.linear_model import Lasso\n",
    "\n",
    "# Creating a toy dataset\n",
    "X = np.array([[1, 2, 3], [4, 5, 6], [7, 8, 9]])\n",
    "y = np.array([10, 11, 12])\n",
    "\n",
    "# Creating Lasso model with alpha=0.1\n",
    "lasso = Lasso(alpha=0.1)\n",
    "\n",
    "# Fitting the model on the dataset\n",
    "lasso.fit(X, y)\n",
    "\n",
    "# Printing the coefficients and intercept\n",
    "print(\"Coefficients:\", lasso.coef_)\n",
    "print(\"Intercept:\", lasso.intercept_)\n"
   ]
  },
  {
   "cell_type": "markdown",
   "id": "9cb8833a",
   "metadata": {},
   "source": [
    "# LASSO ON DATASET"
   ]
  },
  {
   "cell_type": "code",
   "execution_count": 1,
   "id": "967f66ac",
   "metadata": {},
   "outputs": [
    {
     "name": "stderr",
     "output_type": "stream",
     "text": [
      "c:\\users\\91798\\appdata\\local\\programs\\python\\python39\\lib\\site-packages\\sklearn\\utils\\deprecation.py:87: FutureWarning: Function load_boston is deprecated; `load_boston` is deprecated in 1.0 and will be removed in 1.2.\n",
      "\n",
      "    The Boston housing prices dataset has an ethical problem. You can refer to\n",
      "    the documentation of this function for further details.\n",
      "\n",
      "    The scikit-learn maintainers therefore strongly discourage the use of this\n",
      "    dataset unless the purpose of the code is to study and educate about\n",
      "    ethical issues in data science and machine learning.\n",
      "\n",
      "    In this special case, you can fetch the dataset from the original\n",
      "    source::\n",
      "\n",
      "        import pandas as pd\n",
      "        import numpy as np\n",
      "\n",
      "        data_url = \"http://lib.stat.cmu.edu/datasets/boston\"\n",
      "        raw_df = pd.read_csv(data_url, sep=\"\\s+\", skiprows=22, header=None)\n",
      "        data = np.hstack([raw_df.values[::2, :], raw_df.values[1::2, :2]])\n",
      "        target = raw_df.values[1::2, 2]\n",
      "\n",
      "    Alternative datasets include the California housing dataset (i.e.\n",
      "    :func:`~sklearn.datasets.fetch_california_housing`) and the Ames housing\n",
      "    dataset. You can load the datasets as follows::\n",
      "\n",
      "        from sklearn.datasets import fetch_california_housing\n",
      "        housing = fetch_california_housing()\n",
      "\n",
      "    for the California housing dataset and::\n",
      "\n",
      "        from sklearn.datasets import fetch_openml\n",
      "        housing = fetch_openml(name=\"house_prices\", as_frame=True)\n",
      "\n",
      "    for the Ames housing dataset.\n",
      "  warnings.warn(msg, category=FutureWarning)\n"
     ]
    }
   ],
   "source": [
    "import pandas as pd\n",
    "import numpy as np\n",
    "from sklearn.linear_model import Lasso\n",
    "from sklearn.model_selection import train_test_split\n",
    "from sklearn.metrics import mean_squared_error\n",
    "from sklearn.preprocessing import StandardScaler\n",
    "from sklearn.datasets import load_boston\n",
    "boston = load_boston()"
   ]
  },
  {
   "cell_type": "code",
   "execution_count": 2,
   "id": "745dbc97",
   "metadata": {},
   "outputs": [
    {
     "name": "stdout",
     "output_type": "stream",
     "text": [
      "Mean Squared Error: 25.65673936716768\n",
      "Coefficients: [-0.71836455  0.25962714 -0.          0.69822096 -1.56814243  3.27150693\n",
      " -0.         -2.28444944  0.67193802 -0.3566537  -1.89333519  1.03136581\n",
      " -3.60941047]\n"
     ]
    }
   ],
   "source": [
    "\n",
    "# Splitting the dataset into training and testing sets\n",
    "X_train, X_test, y_train, y_test = train_test_split(boston.data, boston.target, test_size=0.2, random_state=42)\n",
    "\n",
    "# standardize the values\n",
    "scaler = StandardScaler()\n",
    "X_train = scaler.fit_transform(X_train)\n",
    "X_test = scaler.transform(X_test)\n",
    "\n",
    "# Creating a Lasso model with alpha=0.1\n",
    "lasso = Lasso(alpha=0.1)\n",
    "\n",
    "# Fitting the model on the training set\n",
    "lasso.fit(X_train, y_train)\n",
    "\n",
    "# Predicting on the testing set\n",
    "y_pred = lasso.predict(X_test)\n",
    "\n",
    "# Calculating the mean squared error of the predictions\n",
    "mse = mean_squared_error(y_test, y_pred)\n",
    "\n",
    "# Printing the mean squared error and the coefficients of the Lasso model\n",
    "print(\"Mean Squared Error:\", mse)\n",
    "print(\"Coefficients:\", lasso.coef_)\n"
   ]
  },
  {
   "cell_type": "markdown",
   "id": "24bd9c67",
   "metadata": {},
   "source": [
    "# RIDGE ON SOME VALUES"
   ]
  },
  {
   "cell_type": "code",
   "execution_count": 3,
   "id": "4f9bb8e6",
   "metadata": {},
   "outputs": [
    {
     "name": "stdout",
     "output_type": "stream",
     "text": [
      "Coefficients: [0.11090573 0.11090573 0.11090573]\n",
      "Intercept: 9.33641404805915\n"
     ]
    }
   ],
   "source": [
    "import numpy as np\n",
    "from sklearn.linear_model import Ridge\n",
    "\n",
    "# Creating a toy dataset\n",
    "X = np.array([[1, 2, 3], [4, 5, 6], [7, 8, 9]])\n",
    "y = np.array([10, 11, 12])\n",
    "\n",
    "# Creating Ridge model with alpha=0.1\n",
    "ridge = Ridge(alpha=0.1)\n",
    "\n",
    "# Fitting the model on the dataset\n",
    "ridge.fit(X, y)\n",
    "\n",
    "# Printing the coefficients and intercept\n",
    "print(\"Coefficients:\", ridge.coef_)\n",
    "print(\"Intercept:\", ridge.intercept_)\n"
   ]
  },
  {
   "cell_type": "markdown",
   "id": "21049748",
   "metadata": {},
   "source": [
    "# RIDGE ON DATASET"
   ]
  },
  {
   "cell_type": "code",
   "execution_count": 3,
   "id": "db5ff584",
   "metadata": {},
   "outputs": [
    {
     "name": "stderr",
     "output_type": "stream",
     "text": [
      "c:\\users\\91798\\appdata\\local\\programs\\python\\python39\\lib\\site-packages\\sklearn\\utils\\deprecation.py:87: FutureWarning: Function load_boston is deprecated; `load_boston` is deprecated in 1.0 and will be removed in 1.2.\n",
      "\n",
      "    The Boston housing prices dataset has an ethical problem. You can refer to\n",
      "    the documentation of this function for further details.\n",
      "\n",
      "    The scikit-learn maintainers therefore strongly discourage the use of this\n",
      "    dataset unless the purpose of the code is to study and educate about\n",
      "    ethical issues in data science and machine learning.\n",
      "\n",
      "    In this special case, you can fetch the dataset from the original\n",
      "    source::\n",
      "\n",
      "        import pandas as pd\n",
      "        import numpy as np\n",
      "\n",
      "        data_url = \"http://lib.stat.cmu.edu/datasets/boston\"\n",
      "        raw_df = pd.read_csv(data_url, sep=\"\\s+\", skiprows=22, header=None)\n",
      "        data = np.hstack([raw_df.values[::2, :], raw_df.values[1::2, :2]])\n",
      "        target = raw_df.values[1::2, 2]\n",
      "\n",
      "    Alternative datasets include the California housing dataset (i.e.\n",
      "    :func:`~sklearn.datasets.fetch_california_housing`) and the Ames housing\n",
      "    dataset. You can load the datasets as follows::\n",
      "\n",
      "        from sklearn.datasets import fetch_california_housing\n",
      "        housing = fetch_california_housing()\n",
      "\n",
      "    for the California housing dataset and::\n",
      "\n",
      "        from sklearn.datasets import fetch_openml\n",
      "        housing = fetch_openml(name=\"house_prices\", as_frame=True)\n",
      "\n",
      "    for the Ames housing dataset.\n",
      "  warnings.warn(msg, category=FutureWarning)\n"
     ]
    }
   ],
   "source": [
    "import pandas as pd\n",
    "import numpy as np\n",
    "from sklearn.linear_model import Ridge\n",
    "from sklearn.model_selection import train_test_split\n",
    "from sklearn.metrics import mean_squared_error\n",
    "from sklearn.preprocessing import StandardScaler\n",
    "from sklearn.datasets import load_boston\n",
    "boston = load_boston()\n"
   ]
  },
  {
   "cell_type": "code",
   "execution_count": 4,
   "id": "72df44fb",
   "metadata": {},
   "outputs": [
    {
     "name": "stdout",
     "output_type": "stream",
     "text": [
      "Mean Squared Error: 24.293294309665924\n",
      "Coefficients: [-1.00111591  0.69436316  0.27539404  0.71912548 -2.01912122  3.14590087\n",
      " -0.17617627 -3.07816919  2.24333232 -1.75959591 -2.03674427  1.12933027\n",
      " -3.61037565]\n"
     ]
    }
   ],
   "source": [
    "\n",
    "# Splitting the dataset into training and testing sets\n",
    "X_train, X_test, y_train, y_test = train_test_split(boston.data, boston.target, test_size=0.2, random_state=42)\n",
    "\n",
    "# standardize the values\n",
    "scaler = StandardScaler()\n",
    "X_train = scaler.fit_transform(X_train)\n",
    "X_test = scaler.transform(X_test)\n",
    "\n",
    "# Creating a Ridge model with alpha=0.1\n",
    "ridge = Ridge(alpha=0.1)\n",
    "\n",
    "# Fitting the model on the training set\n",
    "ridge.fit(X_train, y_train)\n",
    "\n",
    "# Predicting on the testing set\n",
    "y_pred = ridge.predict(X_test)\n",
    "\n",
    "# Calculating the mean squared error of the predictions\n",
    "mse = mean_squared_error(y_test, y_pred)\n",
    "\n",
    "# Printing the mean squared error and the coefficients of the Ridge model\n",
    "print(\"Mean Squared Error:\", mse)\n",
    "print(\"Coefficients:\", ridge.coef_)\n"
   ]
  },
  {
   "cell_type": "code",
   "execution_count": null,
   "id": "e9c0474b",
   "metadata": {},
   "outputs": [],
   "source": []
  }
 ],
 "metadata": {
  "kernelspec": {
   "display_name": "Python 3 (ipykernel)",
   "language": "python",
   "name": "python3"
  },
  "language_info": {
   "codemirror_mode": {
    "name": "ipython",
    "version": 3
   },
   "file_extension": ".py",
   "mimetype": "text/x-python",
   "name": "python",
   "nbconvert_exporter": "python",
   "pygments_lexer": "ipython3",
   "version": "3.9.6"
  }
 },
 "nbformat": 4,
 "nbformat_minor": 5
}
