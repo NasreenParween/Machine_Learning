{
 "cells": [
  {
   "cell_type": "markdown",
   "metadata": {},
   "source": [
    "# Analytical Method"
   ]
  },
  {
   "cell_type": "code",
   "execution_count": 1,
   "metadata": {},
   "outputs": [
    {
     "name": "stdout",
     "output_type": "stream",
     "text": [
      "x mean :  78.0 \n",
      "y mean :  77.0\n",
      "beta1 :  0.6438356164383562\n",
      "beta0 :  26.78082191780822\n"
     ]
    },
    {
     "data": {
      "image/png": "[encoded data removed]",
      "text/plain": [
       "<Figure size 432x288 with 1 Axes>"
      ]
     },
     "metadata": {
      "needs_background": "light"
     },
     "output_type": "display_data"
    },
    {
     "data": {
      "image/png": "[encoded data removed]",
      "text/plain": [
       "<Figure size 432x288 with 1 Axes>"
      ]
     },
     "metadata": {
      "needs_background": "light"
     },
     "output_type": "display_data"
    },
    {
     "name": "stdout",
     "output_type": "stream",
     "text": [
      "squared error is 327.3972602739725\n",
      "mean squared error is 65.4794520547945\n",
      "root mean square error is 8.09193747224943\n",
      "R square is 0.4803218090889325\n"
     ]
    }
   ],
   "source": [
    "import numpy as np\n",
    "import matplotlib.pyplot as plt\n",
    "\n",
    "x = np.array([95, 85, 80, 70, 60])\n",
    "y = np.array([85, 95, 70, 65, 70])\n",
    "x_mean = np.mean(x)\n",
    "y_mean = np.mean(y)\n",
    "n = np.size(x)\n",
    "print(\"x mean : \", x_mean , \"\\ny mean : \", y_mean)\n",
    "\n",
    "num = 0\n",
    "denom = 0\n",
    "\n",
    "for i in range(0, len(x)):\n",
    "    num += ((x[i]-x_mean)*(y[i]-y_mean))\n",
    "    denom += ((x[i]-x_mean)**2)\n",
    "    \n",
    "beta1 = num/denom\n",
    "print(\"beta1 : \", beta1)\n",
    "\n",
    "beta0 = y_mean - (beta1*x_mean)\n",
    "print(\"beta0 : \", beta0)\n",
    "    \n",
    "plt.scatter(x, y)\n",
    "plt.show()\n",
    "\n",
    "y_pred = beta1 * x + beta0\n",
    "  \n",
    "plt.scatter(x, y, color = 'red')\n",
    "plt.plot(x, y_pred, color = 'green')\n",
    "plt.xlabel('X')\n",
    "plt.ylabel('y')\n",
    "plt.show()\n",
    "\n",
    "error = y - y_pred\n",
    "sqr_error = np.sum(error**2)\n",
    "print('squared error is', sqr_error)\n",
    "  \n",
    "mean_se = sqr_error/n \n",
    "print('mean squared error is', mean_se)\n",
    "  \n",
    "rootmean_se = np.sqrt(mean_se)\n",
    "print('root mean square error is', rootmean_se)\n",
    "  \n",
    "SSt = np.sum((y - y_mean)**2)\n",
    "R2 = 1- (sqr_error/SSt)\n",
    "print('R square is', R2)"
   ]
  },
  {
   "cell_type": "markdown",
   "metadata": {},
   "source": [
    "# Normal Method"
   ]
  },
  {
   "cell_type": "code",
   "execution_count": 3,
   "metadata": {},
   "outputs": [
    {
     "name": "stdout",
     "output_type": "stream",
     "text": [
      "[26.78082192  0.64383562]\n"
     ]
    },
    {
     "data": {
      "image/png": "[encoded data removed]",
      "text/plain": [
       "<Figure size 432x288 with 1 Axes>"
      ]
     },
     "metadata": {
      "needs_background": "light"
     },
     "output_type": "display_data"
    }
   ],
   "source": [
    "import numpy as np  \n",
    "%matplotlib inline  \n",
    "import matplotlib.pyplot as plt  \n",
    "def get_best_param(X, y):  \n",
    "    X_transpose = X.T  \n",
    "    best_params = np.linalg.inv(X_transpose.dot(X)).dot(X_transpose).dot(y)  \n",
    "    # normal equation  \n",
    "    # theta_best = (X.T * X)^(-1) * X.T * y  \n",
    "      \n",
    "    return best_params # returns a list  \n",
    "\n",
    " \n",
    "X = np.array([95, 85, 80, 70, 60])\n",
    "y = np.array([85, 95, 70, 65, 70])\n",
    "plt.plot(X, y, \"r.\")  \n",
    "X_b = np.c_[np.ones((5, 1)), X] # set bias term to 1 for each sample  \n",
    "params = get_best_param(X_b, y)  \n",
    "print(params)  "
   ]
  },
  {
   "cell_type": "code",
   "execution_count": 5,
   "metadata": {},
   "outputs": [],
   "source": []
  },
  {
   "cell_type": "code",
   "execution_count": 3,
   "metadata": {},
   "outputs": [],
   "source": [
    "\n",
    "\n"
   ]
  },
  {
   "cell_type": "code",
   "execution_count": null,
   "metadata": {},
   "outputs": [],
   "source": []
  }
 ],
 "metadata": {
  "kernelspec": {
   "display_name": "Python 3 (ipykernel)",
   "language": "python",
   "name": "python3"
  },
  "language_info": {
   "codemirror_mode": {
    "name": "ipython",
    "version": 3
   },
   "file_extension": ".py",
   "mimetype": "text/x-python",
   "name": "python",
   "nbconvert_exporter": "python",
   "pygments_lexer": "ipython3",
   "version": "3.9.6"
  }
 },
 "nbformat": 4,
 "nbformat_minor": 2
}
